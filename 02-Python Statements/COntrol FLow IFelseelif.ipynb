{
 "cells": [
  {
   "cell_type": "code",
   "execution_count": 2,
   "metadata": {},
   "outputs": [
    {
     "name": "stdout",
     "output_type": "stream",
     "text": [
      " who are you\n"
     ]
    }
   ],
   "source": [
    "name = ' harry'\n",
    "if name == 'harry':\n",
    "    print('hello harry')\n",
    "else:\n",
    "    print(' who are you')\n",
    "    \n"
   ]
  },
  {
   "cell_type": "code",
   "execution_count": 3,
   "metadata": {},
   "outputs": [
    {
     "name": "stdout",
     "output_type": "stream",
     "text": [
      "hello harry\n"
     ]
    }
   ],
   "source": [
    "name = 'harry'\n",
    "if name == 'harry':\n",
    "    print('hello harry')\n",
    "else:\n",
    "    print(' who are you')\n",
    "    \n"
   ]
  },
  {
   "cell_type": "code",
   "execution_count": 5,
   "metadata": {},
   "outputs": [
    {
     "name": "stdout",
     "output_type": "stream",
     "text": [
      "hello rocko\n"
     ]
    }
   ],
   "source": [
    "name = 'rocko'\n",
    "if name == 'harry':\n",
    "    print('hello harry')\n",
    "elif name == 'sandy':\n",
    "    print('hello sandy')\n",
    "elif name == 'rocko':\n",
    "    print('hello rocko')\n",
    "else:\n",
    "    print(' who are you')\n",
    "    \n"
   ]
  },
  {
   "cell_type": "code",
   "execution_count": 6,
   "metadata": {},
   "outputs": [
    {
     "name": "stdout",
     "output_type": "stream",
     "text": [
      "hello sandy\n"
     ]
    }
   ],
   "source": [
    "name = 'sandy'\n",
    "if name == 'harry':\n",
    "    print('hello harry')\n",
    "elif name == 'sandy':\n",
    "    print('hello sandy')\n",
    "elif name == 'rocko':\n",
    "    print('hello rocko')\n",
    "else:\n",
    "    print(' who are you')\n",
    "    \n"
   ]
  },
  {
   "cell_type": "code",
   "execution_count": 8,
   "metadata": {},
   "outputs": [
    {
     "name": "stdout",
     "output_type": "stream",
     "text": [
      " who are you\n"
     ]
    }
   ],
   "source": [
    "name = 'sandeep'\n",
    "if name == 'harry':\n",
    "    print('hello harry')\n",
    "elif name == 'sandy':\n",
    "    print('hello sandy')\n",
    "elif name == 'rocko':\n",
    "    print('hello rocko')\n",
    "else:\n",
    "    print(' who are you')\n",
    "    \n"
   ]
  },
  {
   "cell_type": "code",
   "execution_count": null,
   "metadata": {},
   "outputs": [],
   "source": [
    "name = True\n",
    "if name == 'harry':\n",
    "    print(' i know it all \\n www.hi')\n",
    "else"
   ]
  }
 ],
 "metadata": {
  "kernelspec": {
   "display_name": "Python 3",
   "language": "python",
   "name": "python3"
  },
  "language_info": {
   "codemirror_mode": {
    "name": "ipython",
    "version": 3
   },
   "file_extension": ".py",
   "mimetype": "text/x-python",
   "name": "python",
   "nbconvert_exporter": "python",
   "pygments_lexer": "ipython3",
   "version": "3.7.6"
  }
 },
 "nbformat": 4,
 "nbformat_minor": 4
}
